{
 "cells": [
  {
   "cell_type": "code",
   "execution_count": null,
   "id": "2d8a11a6-1f79-4a2a-b269-7a764797abf8",
   "metadata": {},
   "outputs": [],
   "source": [
    "import numpy as np\n",
    "from itertools import chain\n",
    "from functools import reduce\n",
    "\n",
    "# Sample Nested List - GIVEN A LIST NESTED [[1,2],[3]] , USE PYTHON TO FLATTEN IT LIKE [1,2,3]\n",
    "\n",
    "nested_list = [[1, 2, 3], [4, 5], [6, 7, 8]]\n",
    "deep_nested_list = [11,[1, [2, 3]], [4, [5, [6, 7], 8]]]  # For recursion example\n",
    "appendList =['Chips']\n",
    "extendList =['Fish']\n",
    "\n",
    "def recursiveList(nestedList):\n",
    "    newList = []\n",
    "    for items in nestedList:\n",
    "        \n",
    "        if isinstance(items,list):\n",
    "            newList.extend(recursiveList(items))\n",
    "        else:\n",
    "            newList.append(items)\n",
    "\n",
    "    return newList\n",
    "\n",
    "flattenedResult = recursiveList(deep_nested_list)\n",
    "print(\"The flattened list ...\",flattenedResult)\n",
    "\n",
    "appendList.append('-Watch this')\n",
    "print(appendList)\n",
    "\n",
    "extendList.extend('-Catch this')\n",
    "print(extendList)"
   ]
  }
 ],
 "metadata": {
  "kernelspec": {
   "display_name": "Python 3 (ipykernel)",
   "language": "python",
   "name": "python3"
  },
  "language_info": {
   "codemirror_mode": {
    "name": "ipython",
    "version": 3
   },
   "file_extension": ".py",
   "mimetype": "text/x-python",
   "name": "python",
   "nbconvert_exporter": "python",
   "pygments_lexer": "ipython3",
   "version": "3.9.21"
  }
 },
 "nbformat": 4,
 "nbformat_minor": 5
}
